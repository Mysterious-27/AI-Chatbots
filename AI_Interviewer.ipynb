{
  "nbformat": 4,
  "nbformat_minor": 0,
  "metadata": {
    "colab": {
      "provenance": [],
      "gpuType": "T4",
      "authorship_tag": "ABX9TyMpwTTsN8Bcw15d0BaQmWW3",
      "include_colab_link": true
    },
    "kernelspec": {
      "name": "python3",
      "display_name": "Python 3"
    },
    "language_info": {
      "name": "python"
    }
  },
  "cells": [
    {
      "cell_type": "markdown",
      "metadata": {
        "id": "view-in-github",
        "colab_type": "text"
      },
      "source": [
        "<a href=\"https://colab.research.google.com/github/Mysterious-27/AI-Chatbots/blob/main/AI_Interviewer.ipynb\" target=\"_parent\"><img src=\"https://colab.research.google.com/assets/colab-badge.svg\" alt=\"Open In Colab\"/></a>"
      ]
    },
    {
      "cell_type": "markdown",
      "metadata": {
        "id": "5d61541f"
      },
      "source": [
        "#**Build a Streamlit application that simulates a job interview using Gemini API.**"
      ]
    },
    {
      "cell_type": "markdown",
      "metadata": {
        "id": "f95232b9"
      },
      "source": [
        "## Generate streamlit app code\n",
        "Create the Python code for the Streamlit app, including the Gemini API integration and the interview logic.\n"
      ]
    },
    {
      "cell_type": "code",
      "metadata": {
        "colab": {
          "base_uri": "https://localhost:8080/"
        },
        "id": "d28a3b16",
        "outputId": "18a654a9-00bc-42a6-9ed1-39bf0677155e"
      },
      "source": [
        "# app.py\n",
        "\n",
        "import streamlit as st\n",
        "import google.generativeai as genai\n",
        "import os\n",
        "\n",
        "# Configure the Gemini API\n",
        "# Get your API key from environment variables\n",
        "GOOGLE_API_KEY = os.environ.get('GOOGLE_API_KEY')\n",
        "\n",
        "if not GOOGLE_API_KEY:\n",
        "    st.warning(\"Warning: GOOGLE_API_KEY not found in environment variables.\")\n",
        "    st.warning(\"Please add your API key to Colab Secrets with the name 'GOOGLE_API_KEY' and restart the runtime.\")\n",
        "else:\n",
        "    genai.configure(api_key=GOOGLE_API_KEY)\n",
        "\n",
        "\n",
        "QUESTIONS = [\n",
        "    {\n",
        "        \"question\": \"How do you use VLOOKUP to find a value in a table?\",\n",
        "        \"expected\": \"You write =VLOOKUP(lookup_value, table_array, col_index_num, [range_lookup]).\"\n",
        "    },\n",
        "    {\n",
        "        \"question\": \"What is the difference between absolute and relative cell references in Excel?\",\n",
        "        \"expected\": \"Relative references change when copied, absolute references ($A$1) do not.\"\n",
        "    },\n",
        "    {\n",
        "        \"question\": \"Explain how to create a Pivot Table in Excel.\",\n",
        "        \"expected\": \"Select data → Insert → PivotTable → Choose fields for rows, columns, and values.\"\n",
        "    }\n",
        "]\n",
        "\n",
        "st.title(\"🧑‍💻 AI Excel Mock Interviewer\")\n",
        "\n",
        "if \"step\" not in st.session_state:\n",
        "    st.session_state.step = 0\n",
        "    st.session_state.answers = []\n",
        "    st.session_state.evaluations = []\n",
        "\n",
        "if GOOGLE_API_KEY:\n",
        "    if st.session_state.step < len(QUESTIONS):\n",
        "        q = QUESTIONS[st.session_state.step]\n",
        "        st.subheader(f\"Question {st.session_state.step+1}: {q['question']}\")\n",
        "        user_answer = st.text_area(\"Your Answer:\", key=f\"answer_{st.session_state.step}\")\n",
        "\n",
        "        if st.button(\"Submit Answer\"):\n",
        "            prompt = f'''\n",
        "            You are an Excel interviewer. Evaluate the candidate's answer.\n",
        "\n",
        "            Question: {q['question']}\n",
        "            Expected Answer: {q['expected']}\n",
        "            Candidate's Answer: {user_answer}\n",
        "\n",
        "            Give:\n",
        "            - Score (0-5)\n",
        "            - Feedback in 2 sentences\n",
        "            '''\n",
        "            try:\n",
        "                # Use Gemini API to generate the evaluation\n",
        "                model = genai.GenerativeModel('gemini-1.5-flash-latest') # Or other suitable Gemini model\n",
        "                response = model.generate_content(prompt)\n",
        "                evaluation = response.text\n",
        "                st.session_state.evaluations.append(evaluation)\n",
        "                st.session_state.step += 1\n",
        "                st.rerun()\n",
        "            except Exception as e:\n",
        "                st.error(f\"Error during Gemini API call: {e}\")\n",
        "\n",
        "\n",
        "    else:\n",
        "        st.subheader(\"✅ Interview Complete!\")\n",
        "        for i, eval in enumerate(st.session_state.evaluations):\n",
        "            st.write(f\"**Q{i+1}:** {QUESTIONS[i]['question']}\")\n",
        "            st.write(eval)\n",
        "        st.success(\"This concludes your interview. Thank you!\")\n",
        "else:\n",
        "    st.warning(\"Please add your GOOGLE_API_KEY to Colab Secrets and restart the runtime.\")"
      ],
      "execution_count": 49,
      "outputs": [
        {
          "output_type": "stream",
          "name": "stderr",
          "text": [
            "2025-09-14 17:29:32.106 Thread 'MainThread': missing ScriptRunContext! This warning can be ignored when running in bare mode.\n",
            "2025-09-14 17:29:32.107 Thread 'MainThread': missing ScriptRunContext! This warning can be ignored when running in bare mode.\n",
            "2025-09-14 17:29:32.110 Thread 'MainThread': missing ScriptRunContext! This warning can be ignored when running in bare mode.\n",
            "2025-09-14 17:29:32.111 Thread 'MainThread': missing ScriptRunContext! This warning can be ignored when running in bare mode.\n",
            "2025-09-14 17:29:32.114 Thread 'MainThread': missing ScriptRunContext! This warning can be ignored when running in bare mode.\n",
            "2025-09-14 17:29:32.115 Thread 'MainThread': missing ScriptRunContext! This warning can be ignored when running in bare mode.\n",
            "2025-09-14 17:29:32.115 Thread 'MainThread': missing ScriptRunContext! This warning can be ignored when running in bare mode.\n",
            "2025-09-14 17:29:32.116 Thread 'MainThread': missing ScriptRunContext! This warning can be ignored when running in bare mode.\n",
            "2025-09-14 17:29:32.117 Thread 'MainThread': missing ScriptRunContext! This warning can be ignored when running in bare mode.\n",
            "2025-09-14 17:29:32.118 Thread 'MainThread': missing ScriptRunContext! This warning can be ignored when running in bare mode.\n",
            "2025-09-14 17:29:32.119 Thread 'MainThread': missing ScriptRunContext! This warning can be ignored when running in bare mode.\n",
            "2025-09-14 17:29:32.120 Thread 'MainThread': missing ScriptRunContext! This warning can be ignored when running in bare mode.\n",
            "2025-09-14 17:29:32.120 Thread 'MainThread': missing ScriptRunContext! This warning can be ignored when running in bare mode.\n",
            "2025-09-14 17:29:32.121 Thread 'MainThread': missing ScriptRunContext! This warning can be ignored when running in bare mode.\n",
            "2025-09-14 17:29:32.122 Thread 'MainThread': missing ScriptRunContext! This warning can be ignored when running in bare mode.\n",
            "2025-09-14 17:29:32.122 Thread 'MainThread': missing ScriptRunContext! This warning can be ignored when running in bare mode.\n",
            "2025-09-14 17:29:32.123 Thread 'MainThread': missing ScriptRunContext! This warning can be ignored when running in bare mode.\n",
            "2025-09-14 17:29:32.123 Thread 'MainThread': missing ScriptRunContext! This warning can be ignored when running in bare mode.\n",
            "2025-09-14 17:29:32.124 Thread 'MainThread': missing ScriptRunContext! This warning can be ignored when running in bare mode.\n",
            "2025-09-14 17:29:32.125 Thread 'MainThread': missing ScriptRunContext! This warning can be ignored when running in bare mode.\n",
            "2025-09-14 17:29:32.125 Thread 'MainThread': missing ScriptRunContext! This warning can be ignored when running in bare mode.\n",
            "2025-09-14 17:29:32.126 Thread 'MainThread': missing ScriptRunContext! This warning can be ignored when running in bare mode.\n",
            "2025-09-14 17:29:32.126 Thread 'MainThread': missing ScriptRunContext! This warning can be ignored when running in bare mode.\n",
            "2025-09-14 17:29:32.128 Thread 'MainThread': missing ScriptRunContext! This warning can be ignored when running in bare mode.\n"
          ]
        }
      ]
    },
    {
      "cell_type": "markdown",
      "metadata": {
        "id": "328cb7d9"
      },
      "source": [
        "## Save the app code to a file\n",
        "Write the generated Python code to a file named `app.py`.\n"
      ]
    },
    {
      "cell_type": "code",
      "metadata": {
        "id": "695e4e3f"
      },
      "source": [
        "# Save the Streamlit code to a file\n",
        "with open('app.py', 'w') as f:\n",
        "    f.write(\"\"\"\n",
        "import streamlit as st\n",
        "import google.generativeai as genai\n",
        "import os\n",
        "\n",
        "# Configure the Gemini API\n",
        "# Get your API key from environment variables\n",
        "GOOGLE_API_KEY = os.environ.get('GOOGLE_API_KEY')\n",
        "\n",
        "if not GOOGLE_API_KEY:\n",
        "    st.warning(\"Warning: GOOGLE_API_KEY not found in environment variables.\")\n",
        "    st.warning(\"Please add your API key to Colab Secrets with the name 'GOOGLE_API_KEY' and restart the runtime.\")\n",
        "else:\n",
        "    genai.configure(api_key=GOOGLE_API_KEY)\n",
        "\n",
        "\n",
        "QUESTIONS = [\n",
        "    {\n",
        "        \"question\": \"How do you use VLOOKUP to find a value in a table?\",\n",
        "        \"expected\": \"You write =VLOOKUP(lookup_value, table_array, col_index_num, [range_lookup]).\"\n",
        "    },\n",
        "    {\n",
        "        \"question\": \"What is the difference between absolute and relative cell references in Excel?\",\n",
        "        \"expected\": \"Relative references change when copied, absolute references ($A$1) do not.\"\n",
        "    },\n",
        "    {\n",
        "        \"question\": \"Explain how to create a Pivot Table in Excel.\",\n",
        "        \"expected\": \"Select data → Insert → PivotTable → Choose fields for rows, columns, and values.\"\n",
        "    }\n",
        "]\n",
        "\n",
        "st.title(\"🧑‍💻 AI Excel Mock Interviewer\")\n",
        "\n",
        "if \"step\" not in st.session_state:\n",
        "    st.session_state.step = 0\n",
        "    st.session_state.answers = []\n",
        "    st.session_state.evaluations = []\n",
        "\n",
        "if GOOGLE_API_KEY:\n",
        "    if st.session_state.step < len(QUESTIONS):\n",
        "        q = QUESTIONS[st.session_state.step]\n",
        "        st.subheader(f\"Question {st.session_state.step+1}: {q['question']}\")\n",
        "        user_answer = st.text_area(\"Your Answer:\", key=f\"answer_{st.session_state.step}\")\n",
        "\n",
        "        if st.button(\"Submit Answer\"):\n",
        "            prompt = f'''\n",
        "            You are an Excel interviewer. Evaluate the candidate's answer.\n",
        "\n",
        "            Question: {q['question']}\n",
        "            Expected Answer: {q['expected']}\n",
        "            Candidate's Answer: {user_answer}\n",
        "\n",
        "            Give:\n",
        "            - Score (0-5)\n",
        "            - Feedback in 2 sentences\n",
        "            '''\n",
        "            try:\n",
        "                # Use Gemini API to generate the evaluation\n",
        "                model = genai.GenerativeModel('gemini-1.5-flash-latest') # Or other suitable Gemini model\n",
        "                response = model.generate_content(prompt)\n",
        "                evaluation = response.text\n",
        "                st.session_state.evaluations.append(evaluation)\n",
        "                st.session_state.step += 1\n",
        "                st.rerun()\n",
        "            except Exception as e:\n",
        "                st.error(f\"Error during Gemini API call: {e}\")\n",
        "\n",
        "\n",
        "    else:\n",
        "        st.subheader(\"✅ Interview Complete!\")\n",
        "        for i, eval in enumerate(st.session_state.evaluations):\n",
        "            st.write(f\"**Q{i+1}:** {QUESTIONS[i]['question']}\")\n",
        "            st.write(eval)\n",
        "        st.success(\"This concludes your interview. Thank you!\")\n",
        "else:\n",
        "    st.warning(\"Please add your GOOGLE_API_KEY to Colab Secrets and restart the runtime.\")\n",
        "\"\"\"\n",
        ")"
      ],
      "execution_count": 52,
      "outputs": []
    },
    {
      "cell_type": "markdown",
      "metadata": {
        "id": "8153e380"
      },
      "source": [
        "## Install necessary libraries\n",
        "Install the required libraries `streamlit` and `pyngrok`.\n"
      ]
    },
    {
      "cell_type": "code",
      "metadata": {
        "id": "e65a1d79"
      },
      "source": [
        "!pip install streamlit pyngrok -q"
      ],
      "execution_count": 42,
      "outputs": []
    },
    {
      "cell_type": "markdown",
      "metadata": {
        "id": "8a2447b5"
      },
      "source": [
        "## Run the streamlit app with ngrok\n",
        "Start the Streamlit app and expose it to the internet using ngrok.\n"
      ]
    },
    {
      "cell_type": "code",
      "metadata": {
        "colab": {
          "base_uri": "https://localhost:8080/"
        },
        "id": "baf5e3c2",
        "outputId": "77411bb3-1b5d-46cf-8b64-7eae6dc340c6"
      },
      "source": [
        "# Run the Streamlit app using ngrok\n",
        "from pyngrok import ngrok\n",
        "from google.colab import userdata\n",
        "import os\n",
        "\n",
        "# Get the ngrok authtoken from Colab secrets\n",
        "NGROK_AUTH_TOKEN = userdata.get('NGROK_AUTH_TOKEN')\n",
        "ngrok.set_auth_token(NGROK_AUTH_TOKEN)\n",
        "\n",
        "# Get the Google API key from Colab secrets\n",
        "GOOGLE_API_KEY = userdata.get('GOOGLE_API_KEY')\n",
        "\n",
        "# Set the environment variable for the Streamlit app\n",
        "os.environ['GOOGLE_API_KEY'] = GOOGLE_API_KEY\n",
        "\n",
        "public_url = ngrok.connect(8501)\n",
        "print(f\"Streamlit app available at: {public_url}\")\n",
        "\n",
        "!streamlit run app.py"
      ],
      "execution_count": 53,
      "outputs": [
        {
          "output_type": "stream",
          "name": "stdout",
          "text": [
            "Streamlit app available at: NgrokTunnel: \"https://d2e559f25514.ngrok-free.app\" -> \"http://localhost:8501\"\n",
            "\n",
            "Collecting usage statistics. To deactivate, set browser.gatherUsageStats to false.\n",
            "\u001b[0m\n",
            "\u001b[0m\n",
            "\u001b[34m\u001b[1m  You can now view your Streamlit app in your browser.\u001b[0m\n",
            "\u001b[0m\n",
            "\u001b[34m  Local URL: \u001b[0m\u001b[1mhttp://localhost:8501\u001b[0m\n",
            "\u001b[34m  Network URL: \u001b[0m\u001b[1mhttp://172.28.0.12:8501\u001b[0m\n",
            "\u001b[34m  External URL: \u001b[0m\u001b[1mhttp://34.80.94.33:8501\u001b[0m\n",
            "\u001b[0m\n",
            "\u001b[34m  Stopping...\u001b[0m\n",
            "\u001b[34m  Stopping...\u001b[0m\n"
          ]
        }
      ]
    }
  ]
}